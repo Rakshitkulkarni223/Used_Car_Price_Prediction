{
 "cells": [
  {
   "cell_type": "code",
   "execution_count": 1,
   "id": "religious-purpose",
   "metadata": {},
   "outputs": [],
   "source": [
    "import pandas as pd\n",
    "import numpy as np\n",
    "import matplotlib.pyplot as plt\n",
    "import seaborn as sns"
   ]
  },
  {
   "cell_type": "code",
   "execution_count": 2,
   "id": "relative-intellectual",
   "metadata": {},
   "outputs": [],
   "source": [
    "dataframe_train = pd.read_csv('dataset.csv')"
   ]
  },
  {
   "cell_type": "code",
   "execution_count": 3,
   "id": "reserved-ivory",
   "metadata": {},
   "outputs": [],
   "source": [
    "train_data = dataframe_train.copy()"
   ]
  },
  {
   "cell_type": "code",
   "execution_count": 4,
   "id": "removed-acoustic",
   "metadata": {},
   "outputs": [
    {
     "name": "stderr",
     "output_type": "stream",
     "text": [
      "<ipython-input-4-dee6f472c9e6>:3: SettingWithCopyWarning: \n",
      "A value is trying to be set on a copy of a slice from a DataFrame\n",
      "\n",
      "See the caveats in the documentation: https://pandas.pydata.org/pandas-docs/stable/user_guide/indexing.html#returning-a-view-versus-a-copy\n",
      "  train_data['Power'][i] = np.nan\n"
     ]
    }
   ],
   "source": [
    "for i in range(0, len(train_data)):\n",
    "    if train_data['Power'][i] == 'null bhp':\n",
    "        train_data['Power'][i] = np.nan"
   ]
  },
  {
   "cell_type": "code",
   "execution_count": 5,
   "id": "ongoing-workplace",
   "metadata": {},
   "outputs": [
    {
     "name": "stderr",
     "output_type": "stream",
     "text": [
      "<ipython-input-5-01f227497890>:3: SettingWithCopyWarning: \n",
      "A value is trying to be set on a copy of a slice from a DataFrame\n",
      "\n",
      "See the caveats in the documentation: https://pandas.pydata.org/pandas-docs/stable/user_guide/indexing.html#returning-a-view-versus-a-copy\n",
      "  train_data['Mileage'][i] = np.nan\n"
     ]
    }
   ],
   "source": [
    "for i in range(0, len(train_data)):\n",
    "    if train_data['Mileage'][i] == '0.0 kmpl' or train_data['Mileage'][i] == '0.0 km/kg':\n",
    "        train_data['Mileage'][i] = np.nan"
   ]
  },
  {
   "cell_type": "code",
   "execution_count": 6,
   "id": "thermal-trainer",
   "metadata": {},
   "outputs": [],
   "source": [
    "for i in range(0, len(train_data)):\n",
    "    if train_data['Engine'][i] == 'null CC' or train_data['Engine'][i] == '0 CC':\n",
    "        train_data['Engine'][i] = np.nan"
   ]
  },
  {
   "cell_type": "code",
   "execution_count": 7,
   "id": "presidential-steam",
   "metadata": {},
   "outputs": [],
   "source": [
    "train_data.dropna(inplace=True)"
   ]
  },
  {
   "cell_type": "code",
   "execution_count": 8,
   "id": "authorized-aquarium",
   "metadata": {},
   "outputs": [
    {
     "data": {
      "text/plain": [
       "5844"
      ]
     },
     "execution_count": 8,
     "metadata": {},
     "output_type": "execute_result"
    }
   ],
   "source": [
    "len(train_data)"
   ]
  },
  {
   "cell_type": "code",
   "execution_count": 9,
   "id": "incorrect-purple",
   "metadata": {},
   "outputs": [],
   "source": [
    "y = train_data.iloc[:, -1].values"
   ]
  },
  {
   "cell_type": "code",
   "execution_count": 10,
   "id": "processed-bathroom",
   "metadata": {},
   "outputs": [],
   "source": [
    "City = train_data['Location'].unique()"
   ]
  },
  {
   "cell_type": "code",
   "execution_count": 11,
   "id": "acting-newton",
   "metadata": {},
   "outputs": [
    {
     "data": {
      "text/plain": [
       "array(['Mumbai', 'Pune', 'Chennai', 'Coimbatore', 'Hyderabad', 'Jaipur',\n",
       "       'Kochi', 'Kolkata', 'Delhi', 'Bangalore', 'Ahmedabad'],\n",
       "      dtype=object)"
      ]
     },
     "execution_count": 11,
     "metadata": {},
     "output_type": "execute_result"
    }
   ],
   "source": [
    "City"
   ]
  },
  {
   "cell_type": "code",
   "execution_count": 12,
   "id": "polished-faith",
   "metadata": {},
   "outputs": [],
   "source": [
    "brand = []\n",
    "for i in range(0, 5844):\n",
    "    try:\n",
    "        k=train_data['Name'][i].split()\n",
    "        brand.append(k[0].upper())\n",
    "    except:\n",
    "        pass"
   ]
  },
  {
   "cell_type": "code",
   "execution_count": 13,
   "id": "innovative-shower",
   "metadata": {},
   "outputs": [],
   "source": [
    "Brand = np.array(brand)"
   ]
  },
  {
   "cell_type": "code",
   "execution_count": 14,
   "id": "intimate-contribution",
   "metadata": {},
   "outputs": [
    {
     "name": "stderr",
     "output_type": "stream",
     "text": [
      "C:\\Users\\raksh\\anaconda3\\lib\\site-packages\\seaborn\\_decorators.py:36: FutureWarning: Pass the following variable as a keyword arg: x. From version 0.12, the only valid positional argument will be `data`, and passing other arguments without an explicit keyword will result in an error or misinterpretation.\n",
      "  warnings.warn(\n"
     ]
    },
    {
     "data": {
      "text/plain": [
       "[Text(0, 0, 'MARUTI'),\n",
       " Text(1, 0, 'HYUNDAI'),\n",
       " Text(2, 0, 'HONDA'),\n",
       " Text(3, 0, 'AUDI'),\n",
       " Text(4, 0, 'NISSAN'),\n",
       " Text(5, 0, 'TOYOTA'),\n",
       " Text(6, 0, 'VOLKSWAGEN'),\n",
       " Text(7, 0, 'TATA'),\n",
       " Text(8, 0, 'LAND'),\n",
       " Text(9, 0, 'MITSUBISHI'),\n",
       " Text(10, 0, 'RENAULT'),\n",
       " Text(11, 0, 'MERCEDES-BENZ'),\n",
       " Text(12, 0, 'BMW'),\n",
       " Text(13, 0, 'MAHINDRA'),\n",
       " Text(14, 0, 'FORD'),\n",
       " Text(15, 0, 'PORSCHE'),\n",
       " Text(16, 0, 'DATSUN'),\n",
       " Text(17, 0, 'JAGUAR'),\n",
       " Text(18, 0, 'VOLVO'),\n",
       " Text(19, 0, 'CHEVROLET'),\n",
       " Text(20, 0, 'SKODA'),\n",
       " Text(21, 0, 'MINI'),\n",
       " Text(22, 0, 'FIAT'),\n",
       " Text(23, 0, 'JEEP'),\n",
       " Text(24, 0, 'AMBASSADOR'),\n",
       " Text(25, 0, 'ISUZU'),\n",
       " Text(26, 0, 'FORCE'),\n",
       " Text(27, 0, 'BENTLEY'),\n",
       " Text(28, 0, 'LAMBORGHINI')]"
      ]
     },
     "execution_count": 14,
     "metadata": {},
     "output_type": "execute_result"
    },
    {
     "data": {
      "image/png": "[encoded data removed]",
      "text/plain": [
       "<Figure size 720x504 with 1 Axes>"
      ]
     },
     "metadata": {
      "needs_background": "light"
     },
     "output_type": "display_data"
    }
   ],
   "source": [
    "fig = plt.figure(figsize=(10, 7))\n",
    "fig.add_subplot(1, 1, 1)\n",
    "ax = sns.countplot(Brand)\n",
    "ax.set_xlabel(\"Brands\")\n",
    "ax.set_xticklabels(ax.get_xticklabels(), rotation=40, ha='right')"
   ]
  },
  {
   "cell_type": "code",
   "execution_count": 15,
   "id": "drawn-channel",
   "metadata": {},
   "outputs": [],
   "source": [
    "Brand = pd.get_dummies(Brand, drop_first=True, dtype=int)"
   ]
  },
  {
   "cell_type": "code",
   "execution_count": 16,
   "id": "corresponding-harvest",
   "metadata": {},
   "outputs": [],
   "source": [
    "unique_brands = []\n",
    "for i in range(0, 5678):\n",
    "    if brand[i] in unique_brands:\n",
    "        continue\n",
    "    else:\n",
    "        unique_brands.append(brand[i])"
   ]
  },
  {
   "cell_type": "code",
   "execution_count": 17,
   "id": "unexpected-hanging",
   "metadata": {},
   "outputs": [
    {
     "name": "stderr",
     "output_type": "stream",
     "text": [
      "C:\\Users\\raksh\\anaconda3\\lib\\site-packages\\seaborn\\_decorators.py:36: FutureWarning: Pass the following variable as a keyword arg: x. From version 0.12, the only valid positional argument will be `data`, and passing other arguments without an explicit keyword will result in an error or misinterpretation.\n",
      "  warnings.warn(\n"
     ]
    },
    {
     "data": {
      "image/png": "[encoded data removed]",
      "text/plain": [
       "<Figure size 720x504 with 1 Axes>"
      ]
     },
     "metadata": {
      "needs_background": "light"
     },
     "output_type": "display_data"
    }
   ],
   "source": [
    "Loc = train_data['Location']\n",
    "\n",
    "fig = plt.figure(figsize=(10, 7))\n",
    "fig.add_subplot(1, 1, 1)\n",
    "ax = sns.countplot(Loc)\n",
    "ax.set_xlabel(\"Location\")\n",
    "ax.set_xticklabels(ax.get_xticklabels(), rotation=40, ha='right')\n",
    "\n",
    "Loc = pd.get_dummies(Loc, drop_first=True, dtype=int)"
   ]
  },
  {
   "cell_type": "code",
   "execution_count": 18,
   "id": "physical-growing",
   "metadata": {},
   "outputs": [
    {
     "name": "stderr",
     "output_type": "stream",
     "text": [
      "C:\\Users\\raksh\\anaconda3\\lib\\site-packages\\seaborn\\_decorators.py:36: FutureWarning: Pass the following variable as a keyword arg: x. From version 0.12, the only valid positional argument will be `data`, and passing other arguments without an explicit keyword will result in an error or misinterpretation.\n",
      "  warnings.warn(\n"
     ]
    },
    {
     "data": {
      "text/plain": [
       "Text(0.5, 0, 'Seats')"
      ]
     },
     "execution_count": 18,
     "metadata": {},
     "output_type": "execute_result"
    },
    {
     "data": {
      "image/png": "[encoded data removed]",
      "text/plain": [
       "<Figure size 504x504 with 1 Axes>"
      ]
     },
     "metadata": {
      "needs_background": "light"
     },
     "output_type": "display_data"
    }
   ],
   "source": [
    "train_data['Seats'] = train_data['Seats'].astype(int)\n",
    "\n",
    "fig = plt.figure(figsize=(7, 7))\n",
    "fig.add_subplot(1, 1, 1)\n",
    "ax = sns.countplot(train_data['Seats'])\n",
    "ax.set_xlabel(\"Seats\")"
   ]
  },
  {
   "cell_type": "code",
   "execution_count": 19,
   "id": "conditional-warning",
   "metadata": {},
   "outputs": [
    {
     "name": "stderr",
     "output_type": "stream",
     "text": [
      "C:\\Users\\raksh\\anaconda3\\lib\\site-packages\\seaborn\\_decorators.py:36: FutureWarning: Pass the following variable as a keyword arg: x. From version 0.12, the only valid positional argument will be `data`, and passing other arguments without an explicit keyword will result in an error or misinterpretation.\n",
      "  warnings.warn(\n"
     ]
    },
    {
     "data": {
      "text/plain": [
       "Text(0.5, 0, 'Fuel Type')"
      ]
     },
     "execution_count": 19,
     "metadata": {},
     "output_type": "execute_result"
    },
    {
     "data": {
      "image/png": "[encoded data removed]",
      "text/plain": [
       "<Figure size 504x504 with 1 Axes>"
      ]
     },
     "metadata": {
      "needs_background": "light"
     },
     "output_type": "display_data"
    }
   ],
   "source": [
    "fig = plt.figure(figsize=(7, 7))\n",
    "fig.add_subplot(1, 1, 1)\n",
    "ax = sns.countplot(train_data['Fuel_Type'])\n",
    "ax.set_xlabel(\"Fuel Type\")"
   ]
  },
  {
   "cell_type": "code",
   "execution_count": 20,
   "id": "heard-following",
   "metadata": {},
   "outputs": [
    {
     "name": "stderr",
     "output_type": "stream",
     "text": [
      "C:\\Users\\raksh\\anaconda3\\lib\\site-packages\\seaborn\\_decorators.py:36: FutureWarning: Pass the following variable as a keyword arg: x. From version 0.12, the only valid positional argument will be `data`, and passing other arguments without an explicit keyword will result in an error or misinterpretation.\n",
      "  warnings.warn(\n"
     ]
    },
    {
     "data": {
      "text/plain": [
       "Text(0.5, 0, 'Transmission')"
      ]
     },
     "execution_count": 20,
     "metadata": {},
     "output_type": "execute_result"
    },
    {
     "data": {
      "image/png": "[encoded data removed]",
      "text/plain": [
       "<Figure size 504x504 with 1 Axes>"
      ]
     },
     "metadata": {
      "needs_background": "light"
     },
     "output_type": "display_data"
    }
   ],
   "source": [
    "fig = plt.figure(figsize=(7, 7))\n",
    "fig.add_subplot(1, 1, 1)\n",
    "ax = sns.countplot(train_data['Transmission'])\n",
    "ax.set_xlabel(\"Transmission\")"
   ]
  },
  {
   "cell_type": "code",
   "execution_count": 21,
   "id": "grand-spoke",
   "metadata": {},
   "outputs": [
    {
     "name": "stderr",
     "output_type": "stream",
     "text": [
      "C:\\Users\\raksh\\anaconda3\\lib\\site-packages\\seaborn\\_decorators.py:36: FutureWarning: Pass the following variable as a keyword arg: x. From version 0.12, the only valid positional argument will be `data`, and passing other arguments without an explicit keyword will result in an error or misinterpretation.\n",
      "  warnings.warn(\n"
     ]
    },
    {
     "data": {
      "text/plain": [
       "Text(0.5, 0, 'Owner Type')"
      ]
     },
     "execution_count": 21,
     "metadata": {},
     "output_type": "execute_result"
    },
    {
     "data": {
      "image/png": "[encoded data removed]",
      "text/plain": [
       "<Figure size 504x504 with 1 Axes>"
      ]
     },
     "metadata": {
      "needs_background": "light"
     },
     "output_type": "display_data"
    }
   ],
   "source": [
    "fig = plt.figure(figsize=(7, 7))\n",
    "fig.add_subplot(1, 1, 1)\n",
    "ax = sns.countplot(train_data['Owner_Type'])\n",
    "ax.set_xlabel(\"Owner Type\")"
   ]
  },
  {
   "cell_type": "code",
   "execution_count": null,
   "id": "hungarian-classics",
   "metadata": {},
   "outputs": [],
   "source": []
  }
 ],
 "metadata": {
  "kernelspec": {
   "display_name": "Python 3",
   "language": "python",
   "name": "python3"
  },
  "language_info": {
   "codemirror_mode": {
    "name": "ipython",
    "version": 3
   },
   "file_extension": ".py",
   "mimetype": "text/x-python",
   "name": "python",
   "nbconvert_exporter": "python",
   "pygments_lexer": "ipython3",
   "version": "3.8.5"
  }
 },
 "nbformat": 4,
 "nbformat_minor": 5
}
