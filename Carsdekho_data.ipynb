{
 "cells": [
  {
   "cell_type": "code",
   "execution_count": 1,
   "id": "ambient-fellowship",
   "metadata": {},
   "outputs": [],
   "source": [
    "from selenium import webdriver\n",
    "from selenium.webdriver.chrome.options import Options\n",
    "from selenium.common.exceptions import NoSuchElementException\n",
    "from bs4 import BeautifulSoup\n",
    "import time\n",
    "import requests"
   ]
  },
  {
   "cell_type": "code",
   "execution_count": 2,
   "id": "sonic-fashion",
   "metadata": {},
   "outputs": [],
   "source": [
    "header={\n",
    "    \"User-Agent\":\"Mozilla/5.0 (Windows NT 10.0; Win64; x64) AppleWebKit/537.36 (KHTML, like Gecko) Chrome/79.0.3945.88 Safari/537.36\"\n",
    "}"
   ]
  },
  {
   "cell_type": "code",
   "execution_count": 3,
   "id": "hollywood-fountain",
   "metadata": {},
   "outputs": [],
   "source": [
    "cities=['Mumbai', 'Pune', 'Chennai', 'Coimbatore', 'Hyderabad', 'Jaipur',\n",
    "       'Kochi', 'Kolkata', 'New Delhi', 'Bangalore', 'Ahmedabad']"
   ]
  },
  {
   "cell_type": "code",
   "execution_count": 4,
   "id": "governing-federation",
   "metadata": {},
   "outputs": [],
   "source": [
    "car_details = []"
   ]
  },
  {
   "cell_type": "code",
   "execution_count": 15,
   "id": "spiritual-monitoring",
   "metadata": {
    "scrolled": false
   },
   "outputs": [],
   "source": [
    "car_details=[]\n",
    "\n",
    "for city in cities:\n",
    "    \n",
    "    options=Options()\n",
    "    driver=webdriver.Chrome(executable_path=r\"C:\\Users\\raksh\\Downloads\\chromedriver.exe\")\n",
    "    url=\"https://www.cardekho.com/used-cars+in+{}\".format(city)\n",
    "    driver.get(url)\n",
    "    \n",
    "    ScrollNumber = 5\n",
    "    \n",
    "    for i in range(1,ScrollNumber):\n",
    "        print(i)\n",
    "        driver.execute_script(\"window.scrollTo(1,50000)\")\n",
    "        time.sleep(1)\n",
    "\n",
    "    file = open('cardekho.html', 'w',encoding='utf-8')\n",
    "    file.write(driver.page_source)\n",
    "    file.close()\n",
    "\n",
    "    driver.close()\n",
    "    \n",
    "    data = open('cardekho.html','r')\n",
    "    \n",
    "    soup = BeautifulSoup(data, \"lxml\")\n",
    "    \n",
    "    car_list=soup.find_all(\"div\",class_=\"holder hover\")\n",
    "    \n",
    "    car_links=[]\n",
    "    \n",
    "    for car in car_list:\n",
    "        for link in car.find_all(\"a\",href=True):\n",
    "            \n",
    "            test_link=link['href']\n",
    "            \n",
    "            if 'https://www.cardekho.com/' not in test_link:\n",
    "                test_link='https://www.cardekho.com'+test_link\n",
    "\n",
    "            car_links.append(test_link)\n",
    "    \n",
    "\n",
    "    for testlink in car_links:\n",
    "\n",
    "        r=requests.get(testlink,headers=header)\n",
    "        soup=BeautifulSoup(r.content,\"lxml\")\n",
    "\n",
    "        name=soup.find(\"h1\").text.strip()\n",
    "        \n",
    "        price=soup.find(\"div\",class_=\"priceSection\")\n",
    "        try:\n",
    "            price=price.text.strip().split(' ')[1].replace(',','')\n",
    "            if \"Fixed\" in price:\n",
    "                price=price.split('F')[0]\n",
    "        except:\n",
    "            continue\n",
    "            \n",
    "        specifications=soup.find_all(\"div\",class_=\"listIcons\")\n",
    "\n",
    "\n",
    "        spec=[]\n",
    "        Name=' '.join(name.split(' ')[1:])\n",
    "        Price=float(price)\n",
    "        \n",
    "        Location=city\n",
    "    \n",
    "        \n",
    "        f=1\n",
    "        for details in specifications:\n",
    "\n",
    "\n",
    "            spec_name=details.find(\"div\",class_=\"head\").text.strip()\n",
    "            spec_value=details.find(\"div\",class_=\"fontweight500\").text.strip()\n",
    "\n",
    "            if spec_name==\"Make Year\":\n",
    "                Year=int(spec_value)\n",
    "            if spec_name==\"KMs Driven\":\n",
    "                spec_value=int(spec_value.split(' ')[0].replace(',',''))\n",
    "                Kilometers_Driven=spec_value\n",
    "            if spec_name==\"Fuel\":\n",
    "                Fuel_Type=spec_value\n",
    "            if spec_name==\"Transmission\":\n",
    "                Transmission=spec_value\n",
    "            if spec_name==\"No Of Owner(s)\":\n",
    "                Owner_Type=spec_value\n",
    "            if spec_name==\"Mileage\":\n",
    "                Mileage=spec_value\n",
    "            if spec_name==\"Engine\":\n",
    "                Engine=spec_value\n",
    "            if spec_name==\"Max Power\" and f:\n",
    "                f=0\n",
    "                if \"bhp\" in spec_value:\n",
    "                    spec_value=spec_value.split('b')\n",
    "                    Power=(float(spec_value[0]))\n",
    "                else:\n",
    "                    Power=\"NA\"\n",
    "                \n",
    "            if spec_name==\"Seats\":\n",
    "                Seats=int(spec_value)\n",
    "\n",
    "        spec.extend([Name,Location,Year,Kilometers_Driven,Fuel_Type,Transmission,Owner_Type,Mileage,Engine,Power,Seats,Price])\n",
    "        print(spec)\n",
    "        car_details.append(spec)\n",
    "        print(len(car_details))"
   ]
  },
  {
   "cell_type": "code",
   "execution_count": 14,
   "id": "packed-copying",
   "metadata": {},
   "outputs": [
    {
     "name": "stdout",
     "output_type": "stream",
     "text": [
      "\n",
      "\n",
      "Done!!\n",
      "\n",
      "\n"
     ]
    }
   ],
   "source": [
    "import csv\n",
    "\n",
    "\n",
    "columns=[\"Name\",\"Location\",\"Year\",\"Fuel_Type\",\"Kilometers_Driven\",\"Owner_Type\",\"Transmission\",\"Mileage\",\"Engine\",\"Power\",\"Seats\",\"Price\"]\n",
    "\n",
    "\n",
    "\n",
    "with open('data/dataset.csv', 'a',encoding='utf-8',newline='') as f:\n",
    "    write = csv.writer(f)\n",
    "    write.writerow(columns)\n",
    "    write.writerows(car_details)\n",
    "\n",
    "print(\"\\n\\nDone!!\\n\\n\")"
   ]
  }
 ],
 "metadata": {
  "kernelspec": {
   "display_name": "Python 3",
   "language": "python",
   "name": "python3"
  },
  "language_info": {
   "codemirror_mode": {
    "name": "ipython",
    "version": 3
   },
   "file_extension": ".py",
   "mimetype": "text/x-python",
   "name": "python",
   "nbconvert_exporter": "python",
   "pygments_lexer": "ipython3",
   "version": "3.8.5"
  }
 },
 "nbformat": 4,
 "nbformat_minor": 5
}
